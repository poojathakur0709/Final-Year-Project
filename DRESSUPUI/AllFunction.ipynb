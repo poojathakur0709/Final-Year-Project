{
 "cells": [
  {
   "cell_type": "code",
   "execution_count": 1,
   "metadata": {},
   "outputs": [
    {
     "name": "stdout",
     "output_type": "stream",
     "text": [
      "importing Jupyter notebook from GlobalVar.ipynb\n"
     ]
    }
   ],
   "source": [
    "#for modeling\n",
    "from tensorflow.keras.preprocessing import image\n",
    "from tensorflow.keras.preprocessing.image import ImageDataGenerator \n",
    "from tensorflow.keras.preprocessing import image\n",
    "#for read and show images\n",
    "import matplotlib.pyplot as plt\n",
    "import cv2                                                          \n",
    "import matplotlib.image as mpimg\n",
    "#for save and load models\n",
    "import tensorflow as tf\n",
    "from tensorflow import keras     \n",
    "import numpy as np\n",
    "\n",
    "#for color classification\n",
    "import colorsys                                                     \n",
    "import PIL.Image as Image\n",
    "\n",
    "from scipy.spatial import KDTree\n",
    "from webcolors import (\n",
    "   CSS3_HEX_TO_NAMES,\n",
    "    hex_to_rgb\n",
    ")\n",
    "import import_ipynb \n",
    "import GlobalVar   \n",
    "import sqlite3\n",
    "from PIL import Image"
   ]
  },
  {
   "cell_type": "code",
   "execution_count": 2,
   "metadata": {},
   "outputs": [],
   "source": [
    "#pip install  import_ipynb"
   ]
  },
  {
   "cell_type": "code",
   "execution_count": 3,
   "metadata": {},
   "outputs": [],
   "source": [
    "# load pre-trained models\n",
    "# please change them to your local path when load\n",
    "\n",
    "def load_model():\n",
    "    \n",
    "    GlobalVar.sub_model = tf.keras.models.load_model('C:/Users/Asus/sem7/DRESS_UP/models/model_sub')\n",
    "    GlobalVar.top_model = tf.keras.models.load_model('C:/Users/Asus/sem7/DRESS_UP/models/model_top')\n",
    "    GlobalVar.bottom_model = tf.keras.models.load_model('C:/Users/Asus/sem7/DRESS_UP/models/model_bottom')\n",
    "    GlobalVar.foot_model = tf.keras.models.load_model('C:/Users/Asus/sem7/DRESS_UP/models/model_shoes')\n",
    "    print(\"loadModel\")"
   ]
  },
  {
   "cell_type": "code",
   "execution_count": 4,
   "metadata": {},
   "outputs": [],
   "source": [
    "# all output possibilities of the model for subsequent matching\n",
    "sub_list = [\"bottom\",\"foot\",\"top\"]\n",
    "top_list = [['Belts', 'Blazers', 'Dresses', 'Dupatta', 'Jackets', 'Kurtas',\n",
    "       'Kurtis', 'Lehenga Choli', 'Nehru Jackets', 'Rain Jacket',\n",
    "       'Rompers', 'Shirts', 'Shrug', 'Suspenders', 'Sweaters',\n",
    "       'Sweatshirts', 'Tops', 'Tshirts', 'Tunics', 'Waistcoat'],\n",
    "           ['Boys', 'Girls', 'Men', 'Unisex', 'Women'],\n",
    "           ['Black', 'Blue', 'Dark Blue', 'Dark Green', 'Dark Yellow', 'Green',\n",
    "       'Grey', 'Light Blue', 'Multi', 'Orange', 'Pink', 'Purple', 'Red',\n",
    "       'White', 'Yellow'],\n",
    "           ['Fall', 'Spring', 'Summer', 'Winter'],\n",
    "           ['Casual', 'Ethnic', 'Formal', 'Party', 'Smart Casual', 'Sports',\n",
    "       'Travel']]\n",
    "bottom_list = [['Capris', 'Churidar', 'Jeans', 'Jeggings', 'Leggings', 'Patiala',\n",
    "       'Salwar', 'Salwar and Dupatta', 'Shorts', 'Skirts', 'Stockings',\n",
    "       'Swimwear', 'Tights', 'Track Pants', 'Tracksuits', 'Trousers'],\n",
    "              ['Boys', 'Girls', 'Men', 'Unisex', 'Women'],\n",
    "              ['Black', 'Blue', 'Dark Blue', 'Dark Green', 'Dark Yellow', 'Grey',\n",
    "       'Light Blue', 'Multi', 'Orange', 'Pink', 'Purple', 'Red', 'White',\n",
    "       'Yellow'],\n",
    "              ['Fall', 'Spring', 'Summer', 'Winter'],\n",
    "              ['Casual', 'Ethnic', 'Formal', 'Smart Casual', 'Sports']]\n",
    "foot_list = [['Casual Shoes', 'Flats', 'Flip Flops', 'Formal Shoes', 'Heels',\n",
    "       'Sandals', 'Sports Sandals', 'Sports Shoes'],\n",
    "            ['Boys', 'Girls', 'Men', 'Unisex', 'Women'],\n",
    "            ['Black', 'Blue', 'Dark Blue', 'Dark Green', 'Dark Orange',\n",
    "       'Dark Yellow', 'Grey', 'Light Blue', 'Multi', 'Orange', 'Pink',\n",
    "       'Purple', 'Red', 'White', 'Yellow'],\n",
    "            ['Fall', 'Spring', 'Summer', 'Winter'],\n",
    "            ['Casual', 'Ethnic', 'Formal', 'Party', 'Smart Casual', 'Sports']]\n"
   ]
  },
  {
   "cell_type": "code",
   "execution_count": 5,
   "metadata": {},
   "outputs": [],
   "source": [
    "\n",
    "def single_helper(train_images, my_model, lelist):\n",
    "    my_predictions = my_model.predict(train_images)\n",
    "    #print(my_predictions)\n",
    "    result = []\n",
    "    type_predicted_label = np.argmax(my_predictions[0][0])\n",
    "    #print(lelist[0][type_predicted_label])\n",
    "    \n",
    "    for i in top_list[0]:\n",
    "        if(i == lelist[0][type_predicted_label]) :\n",
    "            result.append(\"top\")\n",
    "            #print(result)\n",
    "    for i in bottom_list[0]:\n",
    "        if(i == lelist[0][type_predicted_label]) :\n",
    "            result.append(\"bottom\")\n",
    "            #print(result)\n",
    "    for i in foot_list[0]:\n",
    "        if(i == lelist[0][type_predicted_label]) :\n",
    "            result.append(\"foot\")\n",
    "            #print(result)    \n",
    "    type_predicted_label = np.argmax(my_predictions[1][0])\n",
    "    result.append(lelist[1][type_predicted_label])\n",
    "    #print(result)\n",
    "    type_predicted_label = np.argmax(my_predictions[2][0])\n",
    "    result.append(lelist[2][type_predicted_label])\n",
    "    #print(result)\n",
    "    type_predicted_label = np.argmax(my_predictions[3][0])\n",
    "    result.append(lelist[3][type_predicted_label])\n",
    "    #print(result)\n",
    "    type_predicted_label = np.argmax(my_predictions[4][0])\n",
    "    \n",
    "    result.append(lelist[4][type_predicted_label])\n",
    "    #print(result)\n",
    "    return result\n"
   ]
  },
  {
   "cell_type": "code",
   "execution_count": 6,
   "metadata": {},
   "outputs": [],
   "source": [
    "def single_classification(single_path,sub_model,top_model,bottom_model,foot_model):\n",
    "    train_images = np.zeros((1,80,60,3))\n",
    "  \n",
    "    path = single_path#/content/images   \n",
    "    img = cv2.imread(path)\n",
    "    \n",
    "    #reshape img to apply the model\n",
    "    if img.shape != (80,60,3):\n",
    "        img = image.load_img(path, target_size=(80,60,3))\n",
    "\n",
    "    train_images[0] = img\n",
    "\n",
    "    \n",
    "    result2 = sub_list[np.argmax(sub_model.predict(train_images))]\n",
    "    \n",
    "    # According to the results of the first model, branch to three other models\n",
    "    if result2==\"top\":\n",
    "        ###ADD IMAGE TOP SECTION ARRAY ADD\n",
    "        res = single_helper(train_images,top_model,top_list)\n",
    "    elif result2==\"bottom\":\n",
    "        res = single_helper(train_images,bottom_model,bottom_list)\n",
    "    elif result2==\"foot\":\n",
    "        res = single_helper(train_images,foot_model,foot_list)\n",
    "    res.append(single_path)\n",
    "    res_str = f\"{res[0]}, {res[1]}, {res[2]}, {res[3]}, {res[4]}, {single_path}\" \n",
    "    return (result2,res_str,res)\n",
    "\n"
   ]
  },
  {
   "cell_type": "code",
   "execution_count": 7,
   "metadata": {},
   "outputs": [],
   "source": [
    "#load button function\n",
    "#sub, info, res_place_holder = single_classification(\"D:/Btech/college/SEM7/archive (1)/images/2143.jpg\",GlobalVar.sub_model,GlobalVar.top_model,GlobalVar.bottom_model,GlobalVar.foot_model)\n",
    "            \n",
    "#sub, info, res_place_holder = single_classification()"
   ]
  },
  {
   "cell_type": "code",
   "execution_count": 8,
   "metadata": {},
   "outputs": [],
   "source": [
    "#sub"
   ]
  },
  {
   "cell_type": "code",
   "execution_count": 9,
   "metadata": {},
   "outputs": [],
   "source": [
    "#res_place_holder"
   ]
  },
  {
   "cell_type": "code",
   "execution_count": null,
   "metadata": {},
   "outputs": [],
   "source": []
  },
  {
   "cell_type": "code",
   "execution_count": null,
   "metadata": {},
   "outputs": [],
   "source": []
  },
  {
   "cell_type": "code",
   "execution_count": 10,
   "metadata": {},
   "outputs": [],
   "source": [
    "#pip install scikit-fuzzy"
   ]
  },
  {
   "cell_type": "markdown",
   "metadata": {},
   "source": [
    "Fuzzy logic models"
   ]
  },
  {
   "cell_type": "code",
   "execution_count": 11,
   "metadata": {},
   "outputs": [],
   "source": [
    "import skfuzzy as fuzz\n",
    "from skfuzzy import control as ctrl\n",
    "import colorsys"
   ]
  },
  {
   "cell_type": "code",
   "execution_count": 12,
   "metadata": {},
   "outputs": [],
   "source": [
    "\"\"\"\n",
    "Antecedents HSV\n",
    "HUE: color represented by number from 0(red) - 360(violet)\n",
    "{ WARM, COOL }\n",
    "\n",
    "SATURATION: color saturation represented by number from 0(faded/gray color) - 100(full color)\n",
    "{ GRAY, VERY_FADED, FADED, SATURATED, VERY_SATURATED }\n",
    "\n",
    "VALUE: brightness represented by number 0(dark) - 100(light)\n",
    "{ BLACK, VERY_DARK, DARK, BRIGHT, VERY_BRIGHT }\n",
    "\"\"\"\n",
    "\n",
    "hue_range = np.arange(0, 361, 1)\n",
    "hue_fuzzy = ['WARM', 'COOL', 'WARM_']\n",
    "hue = ctrl.Antecedent(hue_range, 'hue')\n",
    "hue['WARM'] = fuzz.gaussmf(hue.universe, 0, 60)\n",
    "hue['COOL'] = fuzz.gaussmf(hue.universe, 180, 60)\n",
    "hue['WARM_'] = fuzz.gaussmf(hue.universe, 360, 60)\n",
    "\n",
    "\n",
    "sat = ctrl.Antecedent(np.arange(0, 101, 1), 'saturation')\n",
    "sat_fuzzy = ['GRAY', 'VERY_FADED', 'FADED', 'SATURATED', 'VERY_SATURATED']\n",
    "sat['GRAY'] = fuzz.gaussmf(sat.universe, 0, 10)\n",
    "sat['VERY_FADED'] = fuzz.gaussmf(sat.universe, 25, 10)\n",
    "sat['FADED'] = fuzz.gaussmf(sat.universe, 50, 10)\n",
    "sat['SATURATED'] = fuzz.gaussmf(sat.universe, 75, 10)\n",
    "sat['VERY_SATURATED'] = fuzz.gaussmf(sat.universe, 100, 10)\n",
    "\n",
    "\n",
    "val = ctrl.Antecedent(np.arange(0, 101, 1), 'value')\n",
    "val_fuzzy = ['BLACK', 'VERY_DARK', 'DARK', 'BRIGHT', 'VERY_BRIGHT']\n",
    "val['BLACK'] = fuzz.gaussmf(val.universe, 0, 10)\n",
    "val['VERY_DARK'] = fuzz.gaussmf(val.universe, 25, 10)\n",
    "val['DARK'] = fuzz.gaussmf(val.universe, 50, 10)\n",
    "val['BRIGHT'] = fuzz.gaussmf(val.universe, 75, 10)\n",
    "val['VERY_BRIGHT'] = fuzz.gaussmf(val.universe, 100, 10)"
   ]
  },
  {
   "cell_type": "code",
   "execution_count": 13,
   "metadata": {},
   "outputs": [],
   "source": [
    "\"\"\"\n",
    "Consequents\n",
    "TONE: mix of Saturation and Value that indicate if color is neutral or dark/bright\n",
    "{ NEUTRAL, DARK, BRIGHT }\n",
    "\"\"\"\n",
    "tone_range = np.arange(0, 12, 1)\n",
    "tone_fuzzy = ['NEUTRAL', 'DARK', 'BRIGHT']\n",
    "tone = ctrl.Consequent(tone_range, 'tone')\n",
    "\n",
    "tone['NEUTRAL'] = fuzz.trapmf(tone.universe, [0, 0, 1, 2])\n",
    "tone['DARK'] = fuzz.gbellmf(tone.universe, 2, 1, 3)\n",
    "tone['BRIGHT'] = fuzz.gbellmf(tone.universe, 4, 1, 9.5)"
   ]
  },
  {
   "cell_type": "code",
   "execution_count": 14,
   "metadata": {},
   "outputs": [],
   "source": [
    "\"\"\"\n",
    "Fuzzy rules\n",
    "for tones\n",
    "\"\"\"\n",
    "rule1 = ctrl.Rule(val['BLACK'] | sat['GRAY'] | sat['VERY_FADED'], tone['NEUTRAL'], 'Dark colors without color (low brightness/dark) considered neutral')\n",
    "rule2 = ctrl.Rule(val['VERY_DARK'] & sat['SATURATED'], tone['NEUTRAL'], 'Very dark colors with high saturation')\n",
    "rule3 = ctrl.Rule(val['DARK'] & sat['FADED'], tone['DARK'], 'Dark color with normal saturation')\n",
    "rule4 = ctrl.Rule(val['DARK'] & sat['VERY_SATURATED'], tone['BRIGHT'], 'Dark color with high saturation')\n",
    "rule5 = ctrl.Rule(val['BRIGHT'] & sat['SATURATED'], tone['BRIGHT'], 'Bright color with high saturation')\n",
    "rule6 = ctrl.Rule(val['VERY_BRIGHT'] & sat['FADED'], tone['BRIGHT'], 'Very bright color with some saturation')\n",
    "rule7 = ctrl.Rule(val['VERY_BRIGHT'] & sat['VERY_SATURATED'], tone['BRIGHT'], 'Very bright color with high saturation')\n",
    "rule8 = ctrl.Rule(val['VERY_DARK'] & sat['FADED'], tone['NEUTRAL'], 'Very dark color with faded saturation')"
   ]
  },
  {
   "cell_type": "code",
   "execution_count": 15,
   "metadata": {},
   "outputs": [],
   "source": [
    "\"\"\"\n",
    "Control system\n",
    "for tones\n",
    "\"\"\"\n",
    "tone_ctrl = ctrl.ControlSystem([rule1, rule2, rule3, rule4, rule5, rule6, rule7, rule8])\n"
   ]
  },
  {
   "cell_type": "code",
   "execution_count": 16,
   "metadata": {},
   "outputs": [],
   "source": [
    "\"\"\"\n",
    "Simulation\n",
    "for tones\n",
    "\"\"\"\n",
    "tone_sim = ctrl.ControlSystemSimulation(tone_ctrl)"
   ]
  },
  {
   "cell_type": "code",
   "execution_count": 17,
   "metadata": {},
   "outputs": [],
   "source": [
    "\"\"\"\n",
    "GetMembership\n",
    "Returns String representing the Fuzzy value given a variable's range, model, and crisp value\n",
    "\"\"\"\n",
    "def GetMembership(fuzzy_values, var_range, var_model, crisp_value):\n",
    "    max_membership = 0\n",
    "    membership_name = fuzzy_values[0]\n",
    "    for i in range(len(fuzzy_values)):\n",
    "        temp_memb = fuzz.interp_membership(var_range, var_model[fuzzy_values[i]].mf, crisp_value)\n",
    "        if temp_memb > max_membership:\n",
    "            max_membership = temp_memb\n",
    "            membership_name = fuzzy_values[i]\n",
    "    return membership_name"
   ]
  },
  {
   "cell_type": "code",
   "execution_count": 18,
   "metadata": {},
   "outputs": [],
   "source": [
    "def GetTone(values, verbose=False):\n",
    "    tone_sim = ctrl.ControlSystemSimulation(tone_ctrl)\n",
    "    tone_sim.input['saturation'] = values[0]\n",
    "    tone_sim.input['value'] = values[1]\n",
    "    tone_sim.compute()\n",
    "    tone_output = tone_sim.output['tone']\n",
    "    tone_membership = GetMembership(tone_fuzzy, tone_range, tone, tone_output)\n",
    "    if verbose:\n",
    "        print(\"TONE CRISP VALUE: \", tone_output)\n",
    "        print(\"TONE FUZZY VALUE: \", tone_membership)\n",
    "    return tone_membership"
   ]
  },
  {
   "cell_type": "code",
   "execution_count": 19,
   "metadata": {},
   "outputs": [],
   "source": [
    "\"\"\"\n",
    "Given Hue, returns a String indicating if the color belongs\n",
    "to 'WARM' or 'COOL' colors.\n",
    "INPUT:\n",
    "hue - value from 0-360\n",
    "verbose - prints both crisp value and fuzzy value\n",
    "\"\"\"\n",
    "def GetColorTemp(hue_val, verbose=False):\n",
    "    temp_membership = GetMembership(hue_fuzzy, hue_range, hue, hue_val)\n",
    "    if verbose:\n",
    "        print(\"TEMP. CRISP VALUE: \", hue_val)\n",
    "        print(\"TEMP. FUZZY VALUE: \", temp_membership)\n",
    "    return temp_membership"
   ]
  },
  {
   "cell_type": "code",
   "execution_count": 20,
   "metadata": {},
   "outputs": [],
   "source": [
    "\"\"\"\n",
    "Given Hue, Saturation, and Value, returns a String describing\n",
    "the specified color. The output is composed of both the tone of\n",
    "the color, and the temperature of the color.\n",
    "INPUT:\n",
    "hsv - tuple(hue, sat, val)\n",
    "    + hue - value from 0-360\n",
    "    + sat - value from 0-100\n",
    "    + val - value from 0-100\n",
    "OUTPUT: (TONE, TEMP) ex. (DARK, WARM)\n",
    "\"\"\"\n",
    "def GetColorDesc(hsv):\n",
    "    tone = GetTone((hsv[1], hsv[2]))\n",
    "    temp = GetColorTemp(hsv[0])\n",
    "    if temp == \"WARM_\": temp = \"WARM\"\n",
    "    return (tone, temp)"
   ]
  },
  {
   "cell_type": "code",
   "execution_count": 21,
   "metadata": {},
   "outputs": [],
   "source": [
    "\"\"\"\n",
    "Basic outfit follow these rules\n",
    "- No more than one bright color\n",
    "- No high contrast between colors (bright warm + dark cool)\n",
    "- Any number of neutral colors can fit anywhere\n",
    "INPUT:\n",
    "outfit - tuple(top, bot, shs)\n",
    "    top - tuple(tone, temp)\n",
    "    bot - tuple(tone, temp)\n",
    "    shs - tuple(tone, temp)\n",
    "OUTPUT: \n",
    "    True or False\n",
    "\"\"\"\n",
    "def BasicMatch(outfit):\n",
    "    top = outfit[0]\n",
    "    bot = outfit[1] \n",
    "    shs = outfit[2]\n",
    "    \n",
    "    bright_count = len([i for i in outfit if i[0] == 'BRIGHT'])\n",
    "    if bright_count > 1: return False\n",
    "    # Check for high contrast\n",
    "    \n",
    "    return True"
   ]
  },
  {
   "cell_type": "code",
   "execution_count": 22,
   "metadata": {},
   "outputs": [],
   "source": [
    "\"\"\"\n",
    "Neutral outfit follow these rules\n",
    "- Only neutral colors\n",
    "INPUT:\n",
    "outfit - tuple(top, bot, shs)\n",
    "    top - tuple(tone, temp)\n",
    "    bot - tuple(tone, temp)\n",
    "    shs - tuple(tone, temp)\n",
    "OUTPUT:\n",
    "    True or False\n",
    "\"\"\"\n",
    "def NeutralMatch(outfit):\n",
    "    top = outfit[0]\n",
    "    bot = outfit[1] \n",
    "    shs = outfit[2]\n",
    "    \n",
    "    neutral = [color for color in outfit if color[0] == 'NEUTRAL']\n",
    "    if len(neutral) != len(outfit):\n",
    "        return False\n",
    "    \n",
    "    return True"
   ]
  },
  {
   "cell_type": "code",
   "execution_count": 23,
   "metadata": {},
   "outputs": [],
   "source": [
    "\"\"\"\n",
    "Analogous outfit follow these rules\n",
    "- All colors must be within the same temp.\n",
    "- Any number of neutral colors\n",
    "INPUT:\n",
    "outfit - tuple(top, bot, shs)\n",
    "    top - tuple(tone, temp)\n",
    "    bot - tuple(tone, temp)\n",
    "    shs - tuple(tone, temp)\n",
    "OUTPUT:\n",
    "    True or False\n",
    "\"\"\"\n",
    "def AnalogousMatch(outfit):\n",
    "    top = outfit[0]\n",
    "    bot = outfit[1] \n",
    "    shs = outfit[2]\n",
    "    \n",
    "    cool_count = len([color for color in outfit if color[1] == 'COOL'])\n",
    "    warm_count = len(outfit) - cool_count\n",
    "    if cool_count < len(outfit) and warm_count < len(outfit):\n",
    "        return False\n",
    "    \n",
    "    return True"
   ]
  },
  {
   "cell_type": "code",
   "execution_count": 24,
   "metadata": {},
   "outputs": [],
   "source": [
    "\"\"\"\n",
    "Contrast outfit follow these rules\n",
    "- At least one warm color\n",
    "- Both dark and bright colors present\n",
    "INPUT:\n",
    "outfit - tuple(top, bot, shs)\n",
    "    top - tuple(tone, temp)\n",
    "    bot - tuple(tone, temp)\n",
    "    shs - tuple(tone, temp)\n",
    "OUTPUT:\n",
    "    True or False\n",
    "\"\"\"\n",
    "def ContrastMatch(outfit):\n",
    "    top = outfit[0]\n",
    "    bot = outfit[1] \n",
    "    shs = outfit[2]\n",
    "    \n",
    "    warm_count = len([color for color in outfit if color[1] == 'WARM'])\n",
    "    if warm_count < 1: return False\n",
    "    \n",
    "    dark_count = len([color for color in outfit if color[0] == 'DARK'])\n",
    "    bright_count = len([color for color in outfit if color[0] == 'BRIGHT'])\n",
    "    if dark_count < 1 or bright_count < 1:\n",
    "        return False\n",
    "    \n",
    "    return True"
   ]
  },
  {
   "cell_type": "code",
   "execution_count": 25,
   "metadata": {},
   "outputs": [],
   "source": [
    "\"\"\"\n",
    "Bright summer outfit follow these rules\n",
    "- At least two warm colors\n",
    "- At least one bright color\n",
    "- At most one dark color\n",
    "INPUT:\n",
    "outfit - tuple(top, bot, shs)\n",
    "    top - tuple(tone, temp)\n",
    "    bot - tuple(tone, temp)\n",
    "    shs - tuple(tone, temp)\n",
    "OUTPUT: \n",
    "    True or False\n",
    "\"\"\"\n",
    "def SummerMatch(outfit):\n",
    "    top = outfit[0]\n",
    "    bot = outfit[1] \n",
    "    shs = outfit[2]\n",
    "    \n",
    "    non_neutral = [color for color in outfit if color[0] != 'NEUTRAL']\n",
    "    \n",
    "    warm_count = len([color for color in non_neutral if color[1] == 'WARM'])\n",
    "    if warm_count < 2: return False\n",
    "    \n",
    "    dark_count = len([color for color in non_neutral if color[0] == 'DARK'])\n",
    "    if dark_count > 1: return False\n",
    "    \n",
    "    bright_count = len(non_neutral) - dark_count\n",
    "    if bright_count < 1: return False\n",
    "    \n",
    "    return True"
   ]
  },
  {
   "cell_type": "code",
   "execution_count": 26,
   "metadata": {},
   "outputs": [],
   "source": [
    "\"\"\"\n",
    "Dark winter outfit follow these rules\n",
    "- At least one dark color\n",
    "- No bright colors\n",
    "INPUT:\n",
    "outfit - tuple(top, bot, shs)\n",
    "    top - tuple(tone, temp)\n",
    "    bot - tuple(tone, temp)\n",
    "    shs - tuple(tone, temp)\n",
    "OUTPUT:\n",
    "    True or False\n",
    "\"\"\"\n",
    "def WinterMatch(outfit):\n",
    "    top = outfit[0]\n",
    "    bot = outfit[1] \n",
    "    shs = outfit[2]\n",
    "    \n",
    "    non_neutral = [color for color in outfit if color[0] != 'NEUTRAL']\n",
    "    \n",
    "    dark_count = len([color for color in non_neutral if color[0] == 'DARK'])\n",
    "    if dark_count < 1: return False\n",
    "    \n",
    "    bright_count = len(non_neutral) - dark_count\n",
    "    if bright_count > 0: return False\n",
    "    \n",
    "    return True"
   ]
  },
  {
   "cell_type": "code",
   "execution_count": 27,
   "metadata": {},
   "outputs": [],
   "source": [
    "\"\"\"\n",
    "Iterate outfit over all color schemes and get all valid matches\n",
    "INPUT:\n",
    "outfit - tuple(top, bot, shs)\n",
    "    top - hsv-retrive , image \n",
    "    bot - hsv\n",
    "    shs - hsv\n",
    "OUTPUT:\n",
    "    All names of valid outfit matches\n",
    "\"\"\"\n",
    "\n",
    "def GetValidMatches(outfit):\n",
    "    #print(type(outfit))\n",
    "    top = GetColorDesc(outfit[0])\n",
    "    bot = GetColorDesc(outfit[1])\n",
    "    shs = GetColorDesc(outfit[2])\n",
    "    outfit_desc = (top, bot, shs)\n",
    "    \n",
    "    rules = {\"Basic\": BasicMatch, \"Neutral\": NeutralMatch,\n",
    "             \"Analogous\": AnalogousMatch, \"Summer\": SummerMatch,\n",
    "            \"Winter\": WinterMatch}\n",
    "    valid_matches = []\n",
    "    for key in rules:\n",
    "        if rules[key](outfit_desc):\n",
    "            valid_matches.append(key)\n",
    "    if valid_matches != []:\n",
    "        return (valid_matches)"
   ]
  },
  {
   "cell_type": "code",
   "execution_count": 28,
   "metadata": {},
   "outputs": [],
   "source": [
    "def try1():\n",
    "    for _ in range(10):\n",
    "        h = randint(0, 360)\n",
    "        s = randint(0, 100)\n",
    "        v = randint(0, 100)\n",
    "        h1 = randint(0, 360)\n",
    "        s1 = randint(0, 100)\n",
    "        v1 = randint(0, 100)\n",
    "        h2 = randint(0, 360)\n",
    "        s2 = randint(0, 100)\n",
    "        v2 = randint(0, 100)\n",
    "        #CONDITION CATEGORY LIE\n",
    "        #CONDIOTON OCCASION tshirt ,bottom with category hsv pass\n",
    "\n",
    "        top_hsv = (h, s, v)\n",
    "        bot_hsv = (h1, s1, v1)\n",
    "        shs_hsv = (h2, s2, v2)\n",
    "        #-----\n",
    "        outfit_hsv = (top_hsv, bot_hsv, shs_hsv)\n",
    "        print(GetValidMatches(outfit_hsv))\n",
    "        #DisplayOutfitColors(outfit_hsv, valid_matches=GetValidMatches(outfit_hsv))\n",
    "\n",
    "        #CALL SKIN TONE\n",
    "        #['Basic', 'Analogous', 'Winter']\n",
    "        top = GetColorDesc(top_hsv)\n",
    "        bot = GetColorDesc(bot_hsv)\n",
    "        shs = GetColorDesc(shs_hsv)\n",
    "        outfit_desc = (top, bot, shs)\n",
    "        #print(outfit_desc)\n"
   ]
  },
  {
   "cell_type": "code",
   "execution_count": 29,
   "metadata": {},
   "outputs": [
    {
     "name": "stdout",
     "output_type": "stream",
     "text": [
      "['Basic', 'Winter']\n",
      "['Basic']\n",
      "['Basic', 'Analogous', 'Winter']\n",
      "['Basic', 'Analogous']\n",
      "['Summer']\n",
      "['Analogous', 'Summer']\n",
      "['Basic']\n",
      "['Basic', 'Analogous', 'Winter']\n",
      "['Analogous', 'Summer']\n",
      "['Basic', 'Winter']\n"
     ]
    }
   ],
   "source": [
    "from random import randint\n",
    "try1()"
   ]
  },
  {
   "cell_type": "code",
   "execution_count": 30,
   "metadata": {},
   "outputs": [],
   "source": [
    "#Function Database return specfic occasion dress id, hsv\n",
    "#list return -- single iterations - getvalidmatch\n",
    "#if result receive ---dictionary{key == number value :list(ids, result)}\n"
   ]
  },
  {
   "cell_type": "code",
   "execution_count": 31,
   "metadata": {},
   "outputs": [],
   "source": [
    "recom = {}\n",
    "\n",
    "def ViewFuzzy(Email):\n",
    "    #Connect to the database\n",
    "    conn = sqlite3.connect('C:/Users/pooja/sem7/DressUP.db')\n",
    "    #Create a cursor object\n",
    "    cursor = conn.cursor()\n",
    " \n",
    "    \n",
    "    c1=cursor.execute('''Select   ID,h,s,v\n",
    "    from   UpperStorage where  Email = ?''',[Email])\n",
    "    c1 = list(c1)\n",
    "\n",
    "    \n",
    "    c2=cursor.execute('''Select   ID,h,s,v\n",
    "    from  lowerStorage where  Email = ?''',[Email])\n",
    "    c2 = list(c2)\n",
    "\n",
    "    c=cursor.execute('''Select ID,h,s,v\n",
    "    from  footStorage where  Email = ?''',[Email])\n",
    "    c = list(c)\n",
    "\n",
    "\n",
    "        \n",
    "    ######################FUZZY LOGIC\n",
    "    global recom\n",
    "    recom = {}\n",
    "    key =0\n",
    "    for i in c1:\n",
    "        for j in c2 :\n",
    "            for k in c:\n",
    "                value =Recommendation(i,j,k)\n",
    "                recom[key]= value\n",
    "                key = key +1\n",
    "    \n",
    "    print(recom.keys()) \n",
    "    print(recom.items())           \n",
    "                \n",
    "    \n",
    "    \n",
    "    ########################\n",
    "    conn.commit()\n",
    "    cursor.close()"
   ]
  },
  {
   "cell_type": "code",
   "execution_count": 32,
   "metadata": {},
   "outputs": [],
   "source": [
    "##Create function for next and previous\n"
   ]
  },
  {
   "cell_type": "code",
   "execution_count": 35,
   "metadata": {},
   "outputs": [
    {
     "name": "stdout",
     "output_type": "stream",
     "text": [
      "dict_keys([0, 1, 2, 3, 4, 5, 6, 7, 8, 9, 10, 11, 12, 13, 14, 15])\n",
      "dict_items([(0, [['Basic', 'Neutral', 'Analogous'], 1, 1, 1]), (1, [['Basic', 'Neutral', 'Analogous'], 1, 2, 1]), (2, [['Basic', 'Neutral', 'Analogous'], 1, 3, 1]), (3, [['Basic', 'Neutral', 'Analogous'], 1, 4, 1]), (4, [['Basic', 'Neutral', 'Analogous'], 2, 1, 1]), (5, [['Basic', 'Neutral', 'Analogous'], 2, 2, 1]), (6, [['Basic', 'Neutral', 'Analogous'], 2, 3, 1]), (7, [['Basic', 'Neutral', 'Analogous'], 2, 4, 1]), (8, [['Basic', 'Neutral', 'Analogous'], 3, 1, 1]), (9, [['Basic', 'Neutral', 'Analogous'], 3, 2, 1]), (10, [['Basic', 'Neutral', 'Analogous'], 3, 3, 1]), (11, [['Basic', 'Neutral', 'Analogous'], 3, 4, 1]), (12, [['Basic', 'Neutral', 'Analogous'], 4, 1, 1]), (13, [['Basic', 'Neutral', 'Analogous'], 4, 2, 1]), (14, [['Basic', 'Neutral', 'Analogous'], 4, 3, 1]), (15, [['Basic', 'Neutral', 'Analogous'], 4, 4, 1])])\n"
     ]
    }
   ],
   "source": [
    "#ViewFuzzy(\"P@gmail.com\")"
   ]
  },
  {
   "cell_type": "code",
   "execution_count": 34,
   "metadata": {},
   "outputs": [],
   "source": [
    "def Recommendation(tlist , blist , flist):\n",
    "    tid= tlist[0]\n",
    "    bid= blist[0]\n",
    "    fid= flist[0]\n",
    "    \n",
    "    toph=float(tlist[1])\n",
    "    tops=float(tlist[2])\n",
    "    topv=float(tlist[3])\n",
    "    \n",
    "    bh=float(blist[1])\n",
    "    bs=float(blist[2])\n",
    "    bv=float(blist[3])\n",
    "    \n",
    "    fh=float(flist[1])\n",
    "    fs=float(flist[2])\n",
    "    fv =float(flist[3])\n",
    "    \n",
    "    \n",
    "    top_hsv = (toph, tops, topv)\n",
    "    bot_hsv = (bh, bs, bv)\n",
    "    shs_hsv = (fh, fs, fv)\n",
    "    \n",
    "    outfit_hsv = (top_hsv, bot_hsv, shs_hsv)\n",
    "    \n",
    "    matches = GetValidMatches(outfit_hsv)\n",
    "    #print(matches)\n",
    "    answer =[]\n",
    "    answer.append(matches)\n",
    "    answer.append(tid)\n",
    "    answer.append(bid)\n",
    "    answer.append(fid)\n",
    "    return answer\n",
    "    "
   ]
  },
  {
   "cell_type": "code",
   "execution_count": 92,
   "metadata": {},
   "outputs": [],
   "source": [
    "def convert(data, file_name):\n",
    "\n",
    "    # Convert binary format to\n",
    "    # images or files data\n",
    "    with open(file_name, 'wb') as file:\n",
    "        file.write(data)\n"
   ]
  },
  {
   "cell_type": "code",
   "execution_count": 114,
   "metadata": {},
   "outputs": [],
   "source": [
    "#view in Recommendation tab\n",
    "#Previous  image\n",
    "\n",
    "iter = 0\n",
    "def Next(Email):\n",
    "    global recom\n",
    "    global iter\n",
    "    a=recom[iter]\n",
    "    #print(a)\n",
    "\n",
    "    iter = iter +1\n",
    "    \n",
    "    \n",
    "    #Connect to the database\n",
    "    conn = sqlite3.connect('C:/Users/pooja/sem7/DressUP.db')\n",
    "    #Create a cursor object\n",
    "    cursor = conn.cursor()\n",
    "    location1 = \"C:/Users/pooja/sem7/rectop.jpg\"\n",
    "    location2 = \"C:/Users/pooja/sem7/recbot.jpg\"\n",
    "    location3 = \"C:/Users/pooja/sem7/recfot.jpg\"\n",
    "    c1= cursor.execute('''Select Image,ID from  UpperStorage where ID = ? and Email = ?  ''',[a[1],Email] )\n",
    "    for row in c1:\n",
    "\n",
    "        image = row[0]\n",
    "        convert(image, \"C:/Users/pooja/sem7/rectop.jpg\")\n",
    "    c2= cursor.execute('''Select Image,ID from  lowerStorage where ID = ? and Email = ?  ''',[a[2],Email] )\n",
    "    for row in c2:\n",
    "\n",
    "        image = row[0]\n",
    "        convert(image, \"C:/Users/pooja/sem7/recbot.jpg\")\n",
    "    c3= cursor.execute('''Select Image,ID from footStorage where ID = ? and Email = ?  ''',[a[3],Email] )\n",
    "    for row in c3:\n",
    "\n",
    "        image = row[0]\n",
    "        convert(image, \"C:/Users/pooja/sem7/recfot.jpg\")\n",
    "    \n",
    "    \n",
    "    if iter >=len(recom.keys()):\n",
    "        iter = 0\n",
    "    \n",
    "    return True\n",
    "    "
   ]
  },
  {
   "cell_type": "code",
   "execution_count": 115,
   "metadata": {},
   "outputs": [],
   "source": [
    "#view in Recommendation tab\n",
    "#Previous  image\n",
    "\n",
    "def Previous(Email):\n",
    "    global recom\n",
    "    global iter\n",
    "    a=recom[iter]\n",
    "    #print(a)\n",
    "    iter = iter -1\n",
    "    \n",
    "    \n",
    "    #Connect to the database\n",
    "    conn = sqlite3.connect('C:/Users/pooja/sem7/DressUP.db')\n",
    "    #Create a cursor object\n",
    "    cursor = conn.cursor()\n",
    "    location1 = \"C:/Users/pooja/sem7/rectop.jpg\"\n",
    "    location2 = \"C:/Users/pooja/sem7/recbot.jpg\"\n",
    "    location3 = \"C:/Users/pooja/sem7/recfot.jpg\"\n",
    "    c1= cursor.execute('''Select Image,ID from  UpperStorage where ID = ? and Email = ?  ''',[a[1],Email] )\n",
    "    for row in c1:\n",
    "\n",
    "        image = row[0]\n",
    "        convert(image, \"C:/Users/pooja/sem7/rectop.jpg\")\n",
    "    c2= cursor.execute('''Select Image,ID from  lowerStorage where ID = ? and Email = ?  ''',[a[2],Email] )\n",
    "    for row in c2:\n",
    "\n",
    "        image = row[0]\n",
    "        convert(image, \"C:/Users/pooja/sem7/recbot.jpg\")\n",
    "    c3= cursor.execute('''Select Image,ID from  footStorage where ID = ? and Email = ?  ''',[a[3],Email] )\n",
    "    for row in c3:\n",
    "\n",
    "        image = row[0]\n",
    "        convert(image, \"C:/Users/pooja/sem7/recfot.jpg\")\n",
    "    \n",
    "    \n",
    "    if iter <=0:\n",
    "        iter = len(recom.keys()) -1\n",
    "    \n",
    "    return True\n",
    "    "
   ]
  },
  {
   "cell_type": "code",
   "execution_count": 116,
   "metadata": {},
   "outputs": [
    {
     "name": "stdout",
     "output_type": "stream",
     "text": [
      "[['Basic', 'Neutral', 'Analogous'], 1, 2, 1]\n"
     ]
    },
    {
     "data": {
      "text/plain": [
       "True"
      ]
     },
     "execution_count": 116,
     "metadata": {},
     "output_type": "execute_result"
    }
   ],
   "source": [
    "\n",
    "#Next(\"P@gmail.com\")"
   ]
  },
  {
   "cell_type": "code",
   "execution_count": 113,
   "metadata": {},
   "outputs": [
    {
     "data": {
      "text/plain": [
       "{0: [['Basic', 'Neutral', 'Analogous'], 1, 1, 1],\n",
       " 1: [['Basic', 'Neutral', 'Analogous'], 1, 2, 1],\n",
       " 2: [['Basic', 'Neutral', 'Analogous'], 1, 3, 1],\n",
       " 3: [['Basic', 'Neutral', 'Analogous'], 1, 4, 1],\n",
       " 4: [['Basic', 'Neutral', 'Analogous'], 2, 1, 1],\n",
       " 5: [['Basic', 'Neutral', 'Analogous'], 2, 2, 1],\n",
       " 6: [['Basic', 'Neutral', 'Analogous'], 2, 3, 1],\n",
       " 7: [['Basic', 'Neutral', 'Analogous'], 2, 4, 1],\n",
       " 8: [['Basic', 'Neutral', 'Analogous'], 3, 1, 1],\n",
       " 9: [['Basic', 'Neutral', 'Analogous'], 3, 2, 1],\n",
       " 10: [['Basic', 'Neutral', 'Analogous'], 3, 3, 1],\n",
       " 11: [['Basic', 'Neutral', 'Analogous'], 3, 4, 1],\n",
       " 12: [['Basic', 'Neutral', 'Analogous'], 4, 1, 1],\n",
       " 13: [['Basic', 'Neutral', 'Analogous'], 4, 2, 1],\n",
       " 14: [['Basic', 'Neutral', 'Analogous'], 4, 3, 1],\n",
       " 15: [['Basic', 'Neutral', 'Analogous'], 4, 4, 1]}"
      ]
     },
     "execution_count": 113,
     "metadata": {},
     "output_type": "execute_result"
    }
   ],
   "source": [
    "recom"
   ]
  },
  {
   "cell_type": "code",
   "execution_count": null,
   "metadata": {},
   "outputs": [],
   "source": []
  },
  {
   "cell_type": "markdown",
   "metadata": {},
   "source": [
    "SKINTONE\n"
   ]
  },
  {
   "cell_type": "code",
   "execution_count": null,
   "metadata": {},
   "outputs": [],
   "source": [
    "def GetSkinToneMatch(skintone,outfit,top_id,bot_id,shs_id):##Valid match output from GETValidMatches\n",
    "    ##RULE Warm undertone  : Warm, Basic, Contrast , Analogous\n",
    "    #Cool undertone : Dark, Basic, Contrast , Analogous\n",
    "    #Neutral undertone  :  Neutral, Basic, Contrast , Analogous\n",
    "    #outfit==== valid_matches\n",
    "    \n",
    "    if skintone ==\"Cool\":\n",
    "        for x in outfit:\n",
    "            if x == \"Dark\" | \"Basic\" | \"Contrast\" | \"Analogous\":\n",
    "                return  (top_id,bot_id,shs_id)\n",
    "                \n",
    "    elif skintone ==\"Warm\":\n",
    "        for x in outfit:\n",
    "            if x == \"Warm\" | \"Basic\" | \"Contrast\" | \"Analogous\":\n",
    "                return  (top_id,bot_id,shs_id)\n",
    "    else:\n",
    "        for x in outfit:\n",
    "            if x == \"Neutral\" | \"Basic\" | \"Contrast\" | \"Analogous\":\n",
    "                return  (top_id,bot_id,shs_id)\n",
    "        \n",
    " #Function database m call    (top_id,bot_id,shs_id)"
   ]
  }
 ],
 "metadata": {
  "kernelspec": {
   "display_name": "Python 3 (ipykernel)",
   "language": "python",
   "name": "python3"
  },
  "language_info": {
   "codemirror_mode": {
    "name": "ipython",
    "version": 3
   },
   "file_extension": ".py",
   "mimetype": "text/x-python",
   "name": "python",
   "nbconvert_exporter": "python",
   "pygments_lexer": "ipython3",
   "version": "3.9.7"
  }
 },
 "nbformat": 4,
 "nbformat_minor": 4
}
